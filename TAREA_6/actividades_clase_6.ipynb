{
 "cells": [
  {
   "cell_type": "markdown",
   "metadata": {},
   "source": [
    "1. Calculadora de IMC (Índice de Masa Corporal):\n",
    "Cree una función que calcule el IMC (Índice de Masa Corporal) de una persona a partir de su peso y altura.\n",
    "La función debe recibir como parámetros el peso (en kg) y la altura (en cm) y devolver el valor del IMC.\n",
    "\n",
    "Opcional: Implemente una segunda función que clasifique el IMC según los estándares de la OMS:\n",
    "\n",
    "•\tBajo peso: IMC < 18.5\n",
    "•\tPeso normal: 18.5 <= IMC < 25\n",
    "•\tSobrepeso: 25 <= IMC < 30\n",
    "•\tObesidad: IMC >= 30\n"
   ]
  },
  {
   "cell_type": "code",
   "execution_count": 2,
   "metadata": {},
   "outputs": [],
   "source": [
    "def calcular_IMC(peso, altura): \n",
    "    altura_metros = altura / 100 \n",
    "    imc = peso / (altura_metros ** 2) \n",
    "    return imc"
   ]
  },
  {
   "cell_type": "code",
   "execution_count": 3,
   "metadata": {},
   "outputs": [
    {
     "name": "stdout",
     "output_type": "stream",
     "text": [
      "Su IMC es 351562.50. Usted tiene obesidad.\n"
     ]
    }
   ],
   "source": [
    "peso = float(input(\"Ingrese su peso en kg: \")) \n",
    "altura = float(input(\"Ingrese su altura en cm: \")) \n",
    "resultado = calcular_IMC(peso, altura)\n",
    "\n",
    "if resultado < 18.5: \n",
    "    print(f\"Su IMC es {resultado:.2f}. Usted tiene bajo peso.\") \n",
    "elif resultado >= 18.5 and resultado < 25: \n",
    "    print(f\"Su IMC es {resultado:.2f}. Usted tiene un peso saludable.\") \n",
    "elif resultado >= 25 and resultado < 30: \n",
    "    print(f\"Su IMC es {resultado:.2f}. Usted tiene sobrepeso.\") \n",
    "else: print(f\"Su IMC es {resultado:.2f}. Usted tiene obesidad.\")\n",
    "\n"
   ]
  },
  {
   "cell_type": "markdown",
   "metadata": {},
   "source": [
    "2. Analizador de números:\n",
    "Cree una función que reciba un número entero como parámetro y devuelva un diccionario con la siguiente información:\n",
    "\n",
    "•\tSi el número es par o impar\n",
    "\n",
    "•\tSi el número es positivo, negativo o cero\n",
    "\n",
    "•\tSi el número es divisible por 3\n",
    "\n",
    "•\tSi el número es divisible por 5\n",
    "\n",
    "•\tSi el número es divisible por 3 y por 5.\n",
    "\n",
    "Opcional: Implemente la función utilizando una función lambda para cada una de las verificaciones.\n"
   ]
  },
  {
   "cell_type": "code",
   "execution_count": 7,
   "metadata": {},
   "outputs": [
    {
     "name": "stdout",
     "output_type": "stream",
     "text": [
      "{'par_o_impar': 'Par', 'positivo_negativo_o_cero': 'Positivo', 'divisible_por_3': 'No', 'divisible_por_5': 'No', 'divisible_por_3_y_5': 'No'}\n"
     ]
    }
   ],
   "source": [
    "def analizar_numero(numero):\n",
    "    resultados = {\n",
    "        'par_o_impar': (lambda num: 'Par' if num % 2 == 0 else 'Impar')(numero),\n",
    "        'positivo_negativo_o_cero': (lambda num: 'Cero' if num == 0 else 'Positivo' if num > 0 else 'Negativo')(numero),\n",
    "        'divisible_por_3': (lambda num: 'Sí' if num % 3 == 0 else 'No')(numero),\n",
    "        'divisible_por_5': (lambda num: 'Sí' if num % 5 == 0 else 'No')(numero),\n",
    "        'divisible_por_3_y_5': (lambda num: 'Sí' if num % 3 == 0 and num % 5 == 0 else 'No')(numero)\n",
    "    }\n",
    "    \n",
    "    return resultados\n",
    "\n",
    "# Ejemplo de uso de la función\n",
    "numero = int(input(\"Ingrese un número entero: \"))\n",
    "resultado = analizar_numero(numero)\n",
    "print(resultado)\n",
    "\n"
   ]
  },
  {
   "cell_type": "markdown",
   "metadata": {},
   "source": [
    "3. Calculadora de área y perímetro de figuras geométricas:\n",
    "Cree funciones para calcular el área y perímetro de las siguientes figuras geométricas:\n",
    "\n",
    "Cada función debe recibir las dimensiones necesarias como parámetros y devolver el valor correspondiente del área o perímetro.\n"
   ]
  },
  {
   "cell_type": "markdown",
   "metadata": {},
   "source": [
    "a)\tCuadrado"
   ]
  },
  {
   "cell_type": "code",
   "execution_count": 15,
   "metadata": {},
   "outputs": [
    {
     "name": "stdout",
     "output_type": "stream",
     "text": [
      "Cuadrado - Lado: 8 \n",
      " Área: 64 \n",
      " Perímetro: 32\n"
     ]
    }
   ],
   "source": [
    "def calcular_area_perimetro_cuadrado(lado):\n",
    "    area = lado ** 2\n",
    "    perimetro = lado * 4\n",
    "    return area, perimetro\n",
    "\n",
    "lado = 8\n",
    "area, perimetro = calcular_area_perimetro_cuadrado(lado)\n",
    "\n",
    "print(f\"Cuadrado - Lado: {lado} \\n Área: {area} \\n Perímetro: {perimetro}\")"
   ]
  },
  {
   "cell_type": "markdown",
   "metadata": {},
   "source": [
    "b) Triángulo (equilátero, rectángulo e isósceles)"
   ]
  },
  {
   "cell_type": "code",
   "execution_count": null,
   "metadata": {},
   "outputs": [],
   "source": [
    "#Triángulo euilátero"
   ]
  },
  {
   "cell_type": "markdown",
   "metadata": {},
   "source": [
    "c) Círculo"
   ]
  },
  {
   "cell_type": "markdown",
   "metadata": {},
   "source": [
    "d) Rectángulo"
   ]
  },
  {
   "cell_type": "code",
   "execution_count": null,
   "metadata": {},
   "outputs": [],
   "source": [
    "   "
   ]
  }
 ],
 "metadata": {
  "kernelspec": {
   "display_name": "Python 3",
   "language": "python",
   "name": "python3"
  },
  "language_info": {
   "codemirror_mode": {
    "name": "ipython",
    "version": 3
   },
   "file_extension": ".py",
   "mimetype": "text/x-python",
   "name": "python",
   "nbconvert_exporter": "python",
   "pygments_lexer": "ipython3",
   "version": "3.11.5"
  }
 },
 "nbformat": 4,
 "nbformat_minor": 2
}
